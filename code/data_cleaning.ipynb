{
 "cells": [
  {
   "cell_type": "markdown",
   "metadata": {},
   "source": [
    "# Setting up"
   ]
  },
  {
   "cell_type": "code",
   "execution_count": 1,
   "metadata": {},
   "outputs": [],
   "source": [
    "# Dependencies \n",
    "%matplotlib inline\n",
    "import matplotlib.pyplot as plt\n",
    "import pandas as pd\n",
    "import numpy as np\n",
    "import seaborn as sns\n",
    "from scipy.stats import sem\n",
    "plt.style.use('seaborn')\n",
    "\n",
    "# Hide warning messages in notebook\n",
    "# import warnings\n",
    "# warnings.filterwarnings('ignore')"
   ]
  },
  {
   "cell_type": "markdown",
   "metadata": {},
   "source": [
    "# Importing 4 csv files and merging them into one"
   ]
  },
  {
   "cell_type": "code",
   "execution_count": null,
   "metadata": {},
   "outputs": [],
   "source": [
    "# Import datasets\n",
    "demo_2016 = pd.read_csv(\"assets/data/2016_demo_data.csv\")\n",
    "demo_2017 = pd.read_csv(\"assets/data/2017_demo_data.csv\")\n",
    "demo_2018 = pd.read_csv(\"assets/data/2018_demo_data.csv\")\n",
    "demo_2019 = pd.read_csv(\"assets/data/2019_demo_data.csv\")"
   ]
  },
  {
   "cell_type": "code",
   "execution_count": null,
   "metadata": {},
   "outputs": [],
   "source": [
    "# Append datasets\n",
    "final_df = demo_2016.append(demo_2017, ignore_index=True)\n",
    "final_df = final_df.append(demo_2018, ignore_index=True)\n",
    "final_df = final_df.append(demo_2019, ignore_index=True)\n",
    "final_df"
   ]
  },
  {
   "cell_type": "code",
   "execution_count": null,
   "metadata": {},
   "outputs": [],
   "source": [
    "# Export the dataframe (do this Only Once!)\n",
    "# final_df.to_csv(\"assets/data/final_demo_data.csv\", index=False)"
   ]
  },
  {
   "cell_type": "markdown",
   "metadata": {},
   "source": [
    "# Importing the final csv file"
   ]
  },
  {
   "cell_type": "code",
   "execution_count": 16,
   "metadata": {},
   "outputs": [
    {
     "data": {
      "text/html": [
       "<div>\n",
       "<style scoped>\n",
       "    .dataframe tbody tr th:only-of-type {\n",
       "        vertical-align: middle;\n",
       "    }\n",
       "\n",
       "    .dataframe tbody tr th {\n",
       "        vertical-align: top;\n",
       "    }\n",
       "\n",
       "    .dataframe thead th {\n",
       "        text-align: right;\n",
       "    }\n",
       "</style>\n",
       "<table border=\"1\" class=\"dataframe\">\n",
       "  <thead>\n",
       "    <tr style=\"text-align: right;\">\n",
       "      <th></th>\n",
       "      <th>student_id</th>\n",
       "      <th>year</th>\n",
       "      <th>address</th>\n",
       "      <th>city</th>\n",
       "      <th>state</th>\n",
       "      <th>zipcode</th>\n",
       "      <th>ethnicity</th>\n",
       "    </tr>\n",
       "  </thead>\n",
       "  <tbody>\n",
       "    <tr>\n",
       "      <td>0</td>\n",
       "      <td>112140070</td>\n",
       "      <td>2016</td>\n",
       "      <td>3901 Kent Way</td>\n",
       "      <td>So San Francisco</td>\n",
       "      <td>CA</td>\n",
       "      <td>94080</td>\n",
       "      <td>Hispanic/Latino</td>\n",
       "    </tr>\n",
       "    <tr>\n",
       "      <td>1</td>\n",
       "      <td>113040117</td>\n",
       "      <td>2016</td>\n",
       "      <td>540 Serra Dr</td>\n",
       "      <td>So San Francisco</td>\n",
       "      <td>CA</td>\n",
       "      <td>94080</td>\n",
       "      <td>Asian Indian</td>\n",
       "    </tr>\n",
       "    <tr>\n",
       "      <td>2</td>\n",
       "      <td>113090072</td>\n",
       "      <td>2016</td>\n",
       "      <td>935 Gellert Blvd</td>\n",
       "      <td>Daly City</td>\n",
       "      <td>CA</td>\n",
       "      <td>94015</td>\n",
       "      <td>Black or African American</td>\n",
       "    </tr>\n",
       "    <tr>\n",
       "      <td>3</td>\n",
       "      <td>113130101</td>\n",
       "      <td>2016</td>\n",
       "      <td>14 Tunitas Ln</td>\n",
       "      <td>So San Francisco</td>\n",
       "      <td>CA</td>\n",
       "      <td>94080</td>\n",
       "      <td>White</td>\n",
       "    </tr>\n",
       "    <tr>\n",
       "      <td>4</td>\n",
       "      <td>113130103</td>\n",
       "      <td>2016</td>\n",
       "      <td>16 Sonora Ave</td>\n",
       "      <td>So San Francisco</td>\n",
       "      <td>CA</td>\n",
       "      <td>94080</td>\n",
       "      <td>White</td>\n",
       "    </tr>\n",
       "  </tbody>\n",
       "</table>\n",
       "</div>"
      ],
      "text/plain": [
       "   student_id  year            address              city state zipcode  \\\n",
       "0   112140070  2016     3901 Kent Way   So San Francisco    CA   94080   \n",
       "1   113040117  2016      540 Serra Dr   So San Francisco    CA   94080   \n",
       "2   113090072  2016  935 Gellert Blvd          Daly City    CA   94015   \n",
       "3   113130101  2016     14 Tunitas Ln   So San Francisco    CA   94080   \n",
       "4   113130103  2016     16 Sonora Ave   So San Francisco    CA   94080   \n",
       "\n",
       "                   ethnicity  \n",
       "0            Hispanic/Latino  \n",
       "1               Asian Indian  \n",
       "2  Black or African American  \n",
       "3                      White  \n",
       "4                      White  "
      ]
     },
     "execution_count": 16,
     "metadata": {},
     "output_type": "execute_result"
    }
   ],
   "source": [
    "final_demo = pd.read_csv(\"assets/data/final_demo_data.csv\")\n",
    "final_demo.head()"
   ]
  },
  {
   "cell_type": "markdown",
   "metadata": {},
   "source": [
    "# Checking the dataset"
   ]
  },
  {
   "cell_type": "code",
   "execution_count": null,
   "metadata": {
    "scrolled": true
   },
   "outputs": [],
   "source": [
    "# Type of variables\n",
    "final_demo.dtypes"
   ]
  },
  {
   "cell_type": "code",
   "execution_count": null,
   "metadata": {},
   "outputs": [],
   "source": [
    "# Any NaN in the dataset\n",
    "final_demo.isnull().sum()"
   ]
  },
  {
   "cell_type": "code",
   "execution_count": null,
   "metadata": {},
   "outputs": [],
   "source": [
    "# Any uplicates (or similarities, mis-spellings) in ethnicity and city\n",
    "ethnicity = final_demo[\"ethnicity\"].unique()\n",
    "city = final_demo[\"city\"].unique()"
   ]
  },
  {
   "cell_type": "markdown",
   "metadata": {},
   "source": [
    "# Cleaning the dataset"
   ]
  },
  {
   "cell_type": "code",
   "execution_count": 17,
   "metadata": {},
   "outputs": [],
   "source": [
    "# Change the type of \"student_id\" to string\n",
    "final_demo[\"student_id\"] = final_demo[\"student_id\"].astype(str)"
   ]
  },
  {
   "cell_type": "code",
   "execution_count": 18,
   "metadata": {},
   "outputs": [],
   "source": [
    "# Drop NaN in the dataset\n",
    "final_demo.dropna(inplace=True)"
   ]
  },
  {
   "cell_type": "code",
   "execution_count": 19,
   "metadata": {},
   "outputs": [],
   "source": [
    "# Replace ethnicity categories\n",
    "final_demo.replace({\"Asian Indian\": \"General Asian\",\n",
    "                   \"Cambodian\": \"General Asian\",\n",
    "                   \"Chinese\": \"General Asian\",\n",
    "                   \"Filipino\": \"General Asian\",\n",
    "                   \"Hmong\": \"General Asian\",\n",
    "                   \"Japanese\": \"General Asian\",\n",
    "                   \"Korean\": \"General Asian\",\n",
    "                   \"Laotian\": \"General Asian\",\n",
    "                   \"Other Asian\": \"General Asian\",\n",
    "                   \"Vietnamese\": \"General Asian\",\n",
    "                   \"Samoan\": \"Pacific Islander\",\n",
    "                   \"Other Pacific Islander\": \"Pacific Islander\",\n",
    "                   \"Guamanian\": \"Pacific Islander\",\n",
    "                   \"Tahitian\": \"Pacific Islander\",\n",
    "                   \"Laotian\": \"Pacific Islander\",\n",
    "                   \"Hawaiian\": \"Pacific Islander\"}, inplace=True)"
   ]
  },
  {
   "cell_type": "code",
   "execution_count": 22,
   "metadata": {},
   "outputs": [],
   "source": [
    "# Replace city categories\n",
    "final_demo.replace({\"So San Francisco\": \"South SF\",\n",
    "                    \"South San Francisco\": \"South SF\",\n",
    "                    \"So. San Francisco\": \"South SF\",\n",
    "                    \"So San Francisco \": \"South SF\",\n",
    "                    \"So  San Francisco\": \"South SF\",\n",
    "                    \"So Sn Francisco\": \"South SF\",\n",
    "                    \"So SanFrancisco\": \"South SF\",\n",
    "                    \"So San  Francisco\": \"South SF\",\n",
    "                    \"So San Francico\": \"South SF\",\n",
    "                    \"S San Francisco\": \"South SF\",\n",
    "                    \"So San Fran\": \"South SF\",\n",
    "                    \"south San Francisco\": \"South SF\",\n",
    "                    \"South San Francisco \": \"South SF\",\n",
    "                    \"South San Francico\": \"South SF\",\n",
    "                    \"So San Francsico\": \"South SF\",\n",
    "                    \"So San Franicsco\": \"South SF\",\n",
    "                    \"So San Fancisco\": \"South SF\",\n",
    "                    \"Concord \": \"Concord\",\n",
    "                    \"Burlingame \": \"Burlingame\",\n",
    "                    \"Pacifica \": \"Pacifica\",\n",
    "                    \"Daly cITY\": \"Daly City\",\n",
    "                    \"Daly City \": \"Daly City\",\n",
    "                    \"Daly City  \": \"Daly City\",\n",
    "                    \"Daly Citiy\": \"Daly City\",\n",
    "                    \"Daly Ciy\": \"Daly City\",\n",
    "                    \"Daly CIty\": \"Daly City\",\n",
    "                    \"San Mateo \": \"San Mateo\",\n",
    "                    \"Suisun\": \"Suisun City\"\n",
    "                   }, inplace=True)"
   ]
  },
  {
   "cell_type": "code",
   "execution_count": 24,
   "metadata": {},
   "outputs": [],
   "source": [
    "# Create a new column: county\n",
    "final_demo[\"county\"] = \"\"\n",
    "final_demo.loc[(final_demo[\"city\"] == \"San Bernardino\"), \"county\"] = \"Non-San Mateo County\"\n",
    "final_demo.loc[(final_demo[\"city\"] == \"Wexford\"), \"county\"] = \"Non-San Mateo County\"\n",
    "final_demo.loc[(final_demo[\"city\"] == \"Fairfield\"), \"county\"] = \"Non-San Mateo County\"\n",
    "final_demo.loc[(final_demo[\"city\"] == \"Emeryville\"), \"county\"] = \"Non-San Mateo County\"\n",
    "final_demo.loc[(final_demo[\"city\"] == \"Anderson\"), \"county\"] = \"Non-San Mateo County\"\n",
    "final_demo.loc[(final_demo[\"city\"] == \"Redwood City\"), \"county\"] = \"Non-San Mateo County\"\n",
    "final_demo.loc[(final_demo[\"city\"] == \"Pleasant Hill\"), \"county\"] = \"Non-San Mateo County\"\n",
    "final_demo.loc[(final_demo[\"city\"] == \"Sacramento\"), \"county\"] = \"Non-San Mateo County\"\n",
    "final_demo.loc[(final_demo[\"city\"] == \"Elk Grove\"), \"county\"] = \"Non-San Mateo County\"\n",
    "final_demo.loc[(final_demo[\"city\"] == \"Greenville\"), \"county\"] = \"Non-San Mateo County\"\n",
    "final_demo.loc[(final_demo[\"city\"] == \"San Jose\"), \"county\"] = \"Non-San Mateo County\"\n",
    "final_demo.loc[(final_demo[\"city\"] == \"Castro Valley\"), \"county\"] = \"Non-San Mateo County\"\n",
    "final_demo.loc[(final_demo[\"city\"] == \"Keller\"), \"county\"] = \"Non-San Mateo County\"\n",
    "final_demo.loc[(final_demo[\"city\"] == \"Oakland\"), \"county\"] = \"Non-San Mateo County\"\n",
    "final_demo.loc[(final_demo[\"city\"] == \"Pittsburg\"), \"county\"] = \"Non-San Mateo County\"\n",
    "final_demo.loc[(final_demo[\"city\"] == \"Rancho Palos Verdes\"), \"county\"] = \"Non-San Mateo County\"\n",
    "final_demo.loc[(final_demo[\"city\"] == \"Newark\"), \"county\"] = \"Non-San Mateo County\"\n",
    "final_demo.loc[(final_demo[\"city\"] == \"Foster City\"), \"county\"] = \"San Mateo County\"\n",
    "final_demo.loc[(final_demo[\"city\"] == \"Half Moon Bay\"), \"county\"] = \"San Mateo County\"\n",
    "final_demo.loc[(final_demo[\"city\"] == \"Morgan Hill\"), \"county\"] = \"Non-San Mateo County\"\n",
    "final_demo.loc[(final_demo[\"city\"] == \"Fremont\"), \"county\"] = \"Non-San Mateo County\"\n",
    "final_demo.loc[(final_demo[\"city\"] == \"San Carlos\"), \"county\"] = \"San Mateo County\"\n",
    "final_demo.loc[(final_demo[\"city\"] == \"San Diego\"), \"county\"] = \"Non-San Mateo County\"\n",
    "final_demo.loc[(final_demo[\"city\"] == \"Sunnyvale\"), \"county\"] = \"Non-San Mateo County\"\n",
    "final_demo.loc[(final_demo[\"city\"] == \"Clovis\"), \"county\"] = \"Non-San Mateo County\"\n",
    "final_demo.loc[(final_demo[\"city\"] == \"Vacaville\"), \"county\"] = \"Non-San Mateo County\"\n",
    "final_demo.loc[(final_demo[\"city\"] == \"Union City\"), \"county\"] = \"Non-San Mateo County\"\n",
    "final_demo.loc[(final_demo[\"city\"] == \"South SF\"), \"county\"] = \"San Mateo County\"\n",
    "final_demo.loc[(final_demo[\"city\"] == \"Daly City\"), \"county\"] = \"San Mateo County\"\n",
    "final_demo.loc[(final_demo[\"city\"] == \"San Bruno\"), \"county\"] = \"Non-San Mateo County\"\n",
    "final_demo.loc[(final_demo[\"city\"] == \"Burlingame\"), \"county\"] = \"San Mateo County\"\n",
    "final_demo.loc[(final_demo[\"city\"] == \"Pacifica\"), \"county\"] = \"San Mateo County\"\n",
    "final_demo.loc[(final_demo[\"city\"] == \"San Mateo\"), \"county\"] = \"San Mateo County\"\n",
    "final_demo.loc[(final_demo[\"city\"] == \"Millbrae\"), \"county\"] = \"San Mateo County\"\n",
    "final_demo.loc[(final_demo[\"city\"] == \"Hayward\"), \"county\"] = \"Non-San Mateo County\"\n",
    "final_demo.loc[(final_demo[\"city\"] == \"Richmond\"), \"county\"] = \"Non-San Mateo County\"\n",
    "final_demo.loc[(final_demo[\"city\"] == \"Stockton\"), \"county\"] = \"Non-San Mateo County\"\n",
    "final_demo.loc[(final_demo[\"city\"] == \"Vallejo\"), \"county\"] = \"Non-San Mateo County\"\n",
    "final_demo.loc[(final_demo[\"city\"] == \"Colma\"), \"county\"] = \"San Mateo County\"\n",
    "final_demo.loc[(final_demo[\"city\"] == \"Brentwood\"), \"county\"] = \"Non-San Mateo County\"\n",
    "final_demo.loc[(final_demo[\"city\"] == \"San Francisco\"), \"county\"] = \"Non-San Mateo County\"\n",
    "final_demo.loc[(final_demo[\"city\"] == \"Concord\"), \"county\"] = \"Non-San Mateo County\"\n",
    "final_demo.loc[(final_demo[\"city\"] == \"Los Banos\"), \"county\"] = \"Non-San Mateo County\"\n",
    "final_demo.loc[(final_demo[\"city\"] == \"Suisun City\"), \"county\"] = \"Non-San Mateo County\"\n",
    "final_demo.loc[(final_demo[\"city\"] == \"Belmont\"), \"county\"] = \"San Mateo County\"\n",
    "final_demo.loc[(final_demo[\"city\"] == \"San Ramon\"), \"county\"] = \"Non-San Mateo County\"\n",
    "final_demo.loc[(final_demo[\"city\"] == \"Antioch\"), \"county\"] = \"Non-San Mateo County\"\n",
    "final_demo.loc[(final_demo[\"city\"] == \"Hercules\"), \"county\"] = \"Non-San Mateo County\"\n",
    "final_demo.loc[(final_demo[\"city\"] == \"San Leandro\"), \"county\"] = \"Non-San Mateo County\"\n",
    "final_demo.loc[(final_demo[\"city\"] == \"Kerman\"), \"county\"] = \"Non-San Mateo County\"\n",
    "final_demo.loc[(final_demo[\"city\"] == \"San Pablo\"), \"county\"] = \"Non-San Mateo County\"\n",
    "final_demo.loc[(final_demo[\"city\"] == \"South Lake\"), \"county\"] = \"Non-San Mateo County\"\n",
    "final_demo.loc[(final_demo[\"city\"] == \"Manteca\"), \"county\"] = \"Non-San Mateo County\"\n",
    "final_demo.loc[(final_demo[\"city\"] == \"Milpitas\"), \"county\"] = \"Non-San Mateo County\"\n",
    "final_demo.loc[(final_demo[\"city\"] == \"San Lorenzo\"), \"county\"] = \"Non-San Mateo County\"\n",
    "final_demo.loc[(final_demo[\"city\"] == \"Las Vegas\"), \"county\"] = \"Non-San Mateo County\"\n",
    "final_demo.loc[(final_demo[\"city\"] == \"Brisbane\"), \"county\"] = \"San Mateo County\""
   ]
  },
  {
   "cell_type": "code",
   "execution_count": 28,
   "metadata": {},
   "outputs": [],
   "source": [
    "# Create a new column: city2\n",
    "final_demo[\"city2\"] = \"\"\n",
    "final_demo.loc[(final_demo[\"county\"] == \"Non-San Mateo County\"), \"city2\"] = \"Other\"\n",
    "final_demo.loc[(final_demo[\"city\"] == \"Belmont\"), \"city2\"] = \"Belmont\"\n",
    "final_demo.loc[(final_demo[\"city\"] == \"Brisbane\"), \"city2\"] = \"Brisbane\"\n",
    "final_demo.loc[(final_demo[\"city\"] == \"Burlingame\"), \"city2\"] = \"Berlingame\"\n",
    "final_demo.loc[(final_demo[\"city\"] == \"Colma\"), \"city2\"] = \"Colma\"\n",
    "final_demo.loc[(final_demo[\"city\"] == \"Daly City\"), \"city2\"] = \"Daly City\"\n",
    "final_demo.loc[(final_demo[\"city\"] == \"Foster City\"), \"city2\"] = \"Foster City\"\n",
    "final_demo.loc[(final_demo[\"city\"] == \"Half Moon Bay\"), \"city2\"] = \"Half Moon Bay\"\n",
    "final_demo.loc[(final_demo[\"city\"] == \"Millbrae\"), \"city2\"] = \"Millbrae\"\n",
    "final_demo.loc[(final_demo[\"city\"] == \"Pacifica\"), \"city2\"] = \"Pacifica\"\n",
    "final_demo.loc[(final_demo[\"city\"] == \"San Carlos\"), \"city2\"] = \"San Carlos\"\n",
    "final_demo.loc[(final_demo[\"city\"] == \"San Mateo\"), \"city2\"] = \"San Mateo\"\n",
    "final_demo.loc[(final_demo[\"city\"] == \"South SF\"), \"city2\"] = \"South SF\""
   ]
  },
  {
   "cell_type": "markdown",
   "metadata": {},
   "source": [
    "# Creating yearly enrollment group"
   ]
  },
  {
   "cell_type": "code",
   "execution_count": 31,
   "metadata": {},
   "outputs": [],
   "source": [
    "# Year subgroups\n",
    "enroll2016 = final_demo.loc[final_demo[\"year\"]==2016]\n",
    "enroll2017 = final_demo.loc[final_demo[\"year\"]==2017]\n",
    "enroll2018 = final_demo.loc[final_demo[\"year\"]==2018]\n",
    "enroll2019 = final_demo.loc[final_demo[\"year\"]==2019]"
   ]
  },
  {
   "cell_type": "markdown",
   "metadata": {},
   "source": [
    "## + Creating subgroups - Ethnicity"
   ]
  },
  {
   "cell_type": "code",
   "execution_count": null,
   "metadata": {},
   "outputs": [],
   "source": [
    "### YEAR 2016 ###\n",
    "\n",
    "# Calcaulte number of enrollment based on ethnicity\n",
    "enrollRace2016 = pd.DataFrame(enroll2016.groupby([\"ethnicity\"])[\"student_id\"].count())\n",
    "\n",
    "# Add year column\n",
    "enrollRace2016[\"year\"] = 2016\n",
    "\n",
    "# Rename column name\n",
    "enrollRace2016.rename({\"student_id\": \"enrollment\"}, axis=1, inplace=True)"
   ]
  },
  {
   "cell_type": "code",
   "execution_count": null,
   "metadata": {},
   "outputs": [],
   "source": [
    "### YEAR 2017 ###\n",
    "\n",
    "# Calcaulte number of enrollment based on ethnicity\n",
    "enrollRace2017 = pd.DataFrame(enroll2017.groupby([\"ethnicity\"])[\"student_id\"].count())\n",
    "\n",
    "# Add year column\n",
    "enrollRace2017[\"year\"] = 2017\n",
    "\n",
    "# Rename column name\n",
    "enrollRace2017.rename({\"student_id\": \"enrollment\"}, axis=1, inplace=True)"
   ]
  },
  {
   "cell_type": "code",
   "execution_count": null,
   "metadata": {},
   "outputs": [],
   "source": [
    "### YEAR 2018 ###\n",
    "\n",
    "# Calcaulte number of enrollment based on ethnicity\n",
    "enrollRace2018 = pd.DataFrame(enroll2018.groupby([\"ethnicity\"])[\"student_id\"].count())\n",
    "\n",
    "# Add year column\n",
    "enrollRace2018[\"year\"] = 2018\n",
    "\n",
    "# Rename column name\n",
    "enrollRace2018.rename({\"student_id\": \"enrollment\"}, axis=1, inplace=True)"
   ]
  },
  {
   "cell_type": "code",
   "execution_count": null,
   "metadata": {},
   "outputs": [],
   "source": [
    "### YEAR 2019 ###\n",
    "\n",
    "# Calcaulte number of enrollment based on ethnicity\n",
    "enrollRace2019 = pd.DataFrame(enroll2019.groupby([\"ethnicity\"])[\"student_id\"].count())\n",
    "\n",
    "# Add year column\n",
    "enrollRace2019[\"year\"] = 2019\n",
    "\n",
    "# Rename column name\n",
    "enrollRace2019.rename({\"student_id\": \"enrollment\"}, axis=1, inplace=True)"
   ]
  },
  {
   "cell_type": "code",
   "execution_count": null,
   "metadata": {},
   "outputs": [],
   "source": [
    "# Append 4 dataframes into one\n",
    "enrollRace = enrollRace2016.append(enrollRace2017)\n",
    "enrollRace = enrollRace.append(enrollRace2018)\n",
    "enrollRace = enrollRace.append(enrollRace2019)"
   ]
  },
  {
   "cell_type": "code",
   "execution_count": null,
   "metadata": {
    "scrolled": true
   },
   "outputs": [],
   "source": [
    "# Export to csv file\n",
    "enrollRace.to_csv(\"assets/data/race_data.csv\", index=True)"
   ]
  },
  {
   "cell_type": "markdown",
   "metadata": {},
   "source": [
    "## + Creating subgroups - City"
   ]
  },
  {
   "cell_type": "code",
   "execution_count": 32,
   "metadata": {},
   "outputs": [],
   "source": [
    "### YEAR 2016 ###\n",
    "\n",
    "# Calcaulte number of enrollment based on city\n",
    "enrollCity2016 = pd.DataFrame(enroll2016.groupby([\"city2\"])[\"student_id\"].count())\n",
    "\n",
    "# Add year column\n",
    "enrollCity2016[\"year\"] = 2016\n",
    "\n",
    "# Rename column name\n",
    "enrollCity2016.rename({\"student_id\": \"enrollment\"}, axis=1, inplace=True)"
   ]
  },
  {
   "cell_type": "code",
   "execution_count": 34,
   "metadata": {},
   "outputs": [],
   "source": [
    "### YEAR 2017 ###\n",
    "\n",
    "# Calcaulte number of enrollment based on city\n",
    "enrollCity2017 = pd.DataFrame(enroll2017.groupby([\"city2\"])[\"student_id\"].count())\n",
    "\n",
    "# Add year column\n",
    "enrollCity2017[\"year\"] = 2017\n",
    "\n",
    "# Rename column name\n",
    "enrollCity2017.rename({\"student_id\": \"enrollment\"}, axis=1, inplace=True)"
   ]
  },
  {
   "cell_type": "code",
   "execution_count": 35,
   "metadata": {},
   "outputs": [],
   "source": [
    "### YEAR 2018 ###\n",
    "\n",
    "# Calcaulte number of enrollment based on city\n",
    "enrollCity2018 = pd.DataFrame(enroll2018.groupby([\"city2\"])[\"student_id\"].count())\n",
    "\n",
    "# Add year column\n",
    "enrollCity2018[\"year\"] = 2018\n",
    "\n",
    "# Rename column name\n",
    "enrollCity2018.rename({\"student_id\": \"enrollment\"}, axis=1, inplace=True)"
   ]
  },
  {
   "cell_type": "code",
   "execution_count": 36,
   "metadata": {},
   "outputs": [],
   "source": [
    "### YEAR 2019 ###\n",
    "\n",
    "# Calcaulte number of enrollment based on city\n",
    "enrollCity2019 = pd.DataFrame(enroll2019.groupby([\"city2\"])[\"student_id\"].count())\n",
    "\n",
    "# Add year column\n",
    "enrollCity2019[\"year\"] = 2019\n",
    "\n",
    "# Rename column name\n",
    "enrollCity2019.rename({\"student_id\": \"enrollment\"}, axis=1, inplace=True)"
   ]
  },
  {
   "cell_type": "code",
   "execution_count": 37,
   "metadata": {},
   "outputs": [],
   "source": [
    "# Append 4 dataframes into one\n",
    "enrollCity = enrollCity2016.append(enrollCity2017)\n",
    "enrollCity = enrollCity.append(enrollCity2018)\n",
    "enrollCity = enrollCity.append(enrollCity2019)"
   ]
  },
  {
   "cell_type": "code",
   "execution_count": 38,
   "metadata": {},
   "outputs": [],
   "source": [
    "# Export to csv file\n",
    "enrollCity.to_csv(\"assets/data/city_data.csv\", index=True)"
   ]
  },
  {
   "cell_type": "markdown",
   "metadata": {},
   "source": [
    "## + Creating subgroups - County"
   ]
  },
  {
   "cell_type": "code",
   "execution_count": 39,
   "metadata": {},
   "outputs": [],
   "source": [
    "### YEAR 2016 ###\n",
    "\n",
    "# Calcaulte number of enrollment based on county\n",
    "enrollCounty2016 = pd.DataFrame(enroll2016.groupby([\"county\"])[\"student_id\"].count())\n",
    "\n",
    "# Add year column\n",
    "enrollCounty2016[\"year\"] = 2016\n",
    "\n",
    "# Rename column name\n",
    "enrollCounty2016.rename({\"student_id\": \"enrollment\"}, axis=1, inplace=True)"
   ]
  },
  {
   "cell_type": "code",
   "execution_count": 40,
   "metadata": {},
   "outputs": [],
   "source": [
    "### YEAR 2017 ###\n",
    "\n",
    "# Calcaulte number of enrollment based on county\n",
    "enrollCounty2017 = pd.DataFrame(enroll2017.groupby([\"county\"])[\"student_id\"].count())\n",
    "\n",
    "# Add year column\n",
    "enrollCounty2017[\"year\"] = 2017\n",
    "\n",
    "# Rename column name\n",
    "enrollCounty2017.rename({\"student_id\": \"enrollment\"}, axis=1, inplace=True)"
   ]
  },
  {
   "cell_type": "code",
   "execution_count": 41,
   "metadata": {},
   "outputs": [],
   "source": [
    "### YEAR 2018 ###\n",
    "\n",
    "# Calcaulte number of enrollment based on county\n",
    "enrollCounty2018 = pd.DataFrame(enroll2018.groupby([\"county\"])[\"student_id\"].count())\n",
    "\n",
    "# Add year column\n",
    "enrollCounty2018[\"year\"] = 2018\n",
    "\n",
    "# Rename column name\n",
    "enrollCounty2018.rename({\"student_id\": \"enrollment\"}, axis=1, inplace=True)"
   ]
  },
  {
   "cell_type": "code",
   "execution_count": 42,
   "metadata": {},
   "outputs": [],
   "source": [
    "### YEAR 2019 ###\n",
    "\n",
    "# Calcaulte number of enrollment based on county\n",
    "enrollCounty2019 = pd.DataFrame(enroll2019.groupby([\"county\"])[\"student_id\"].count())\n",
    "\n",
    "# Add year column\n",
    "enrollCounty2019[\"year\"] = 2019\n",
    "\n",
    "# Rename column name\n",
    "enrollCounty2019.rename({\"student_id\": \"enrollment\"}, axis=1, inplace=True)"
   ]
  },
  {
   "cell_type": "code",
   "execution_count": 43,
   "metadata": {},
   "outputs": [],
   "source": [
    "# Append 4 dataframes into one\n",
    "enrollCounty = enrollCounty2016.append(enrollCounty2017)\n",
    "enrollCounty = enrollCounty.append(enrollCounty2018)\n",
    "enrollCounty = enrollCounty.append(enrollCounty2019)"
   ]
  },
  {
   "cell_type": "code",
   "execution_count": 44,
   "metadata": {},
   "outputs": [],
   "source": [
    "# Export to csv file\n",
    "enrollCounty.to_csv(\"assets/data/county_data.csv\", index=True)"
   ]
  },
  {
   "cell_type": "code",
   "execution_count": null,
   "metadata": {},
   "outputs": [],
   "source": []
  }
 ],
 "metadata": {
  "kernelspec": {
   "display_name": "Python 3",
   "language": "python",
   "name": "python3"
  },
  "language_info": {
   "codemirror_mode": {
    "name": "ipython",
    "version": 3
   },
   "file_extension": ".py",
   "mimetype": "text/x-python",
   "name": "python",
   "nbconvert_exporter": "python",
   "pygments_lexer": "ipython3",
   "version": "3.7.4"
  }
 },
 "nbformat": 4,
 "nbformat_minor": 2
}
