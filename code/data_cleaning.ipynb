{
 "cells": [
  {
   "cell_type": "markdown",
   "metadata": {},
   "source": [
    "# Setting up"
   ]
  },
  {
   "cell_type": "code",
   "execution_count": 5,
   "metadata": {},
   "outputs": [],
   "source": [
    "# Dependencies \n",
    "%matplotlib inline\n",
    "import matplotlib.pyplot as plt\n",
    "import pandas as pd\n",
    "import numpy as np\n",
    "import seaborn as sns\n",
    "from scipy.stats import sem\n",
    "plt.style.use('seaborn')\n",
    "\n",
    "# Hide warning messages in notebook\n",
    "# import warnings\n",
    "# warnings.filterwarnings('ignore')"
   ]
  },
  {
   "cell_type": "code",
   "execution_count": 6,
   "metadata": {},
   "outputs": [],
   "source": [
    "# Import datasets\n",
    "demo_2016 = pd.read_csv(\"assets/data/2016_demo_data.csv\")\n",
    "demo_2017 = pd.read_csv(\"assets/data/2017_demo_data.csv\")\n",
    "demo_2018 = pd.read_csv(\"assets/data/2018_demo_data.csv\")\n",
    "demo_2019 = pd.read_csv(\"assets/data/2019_demo_data.csv\")"
   ]
  },
  {
   "cell_type": "markdown",
   "metadata": {},
   "source": [
    "# Merging datasets"
   ]
  },
  {
   "cell_type": "code",
   "execution_count": 7,
   "metadata": {},
   "outputs": [
    {
     "data": {
      "text/html": [
       "<div>\n",
       "<style scoped>\n",
       "    .dataframe tbody tr th:only-of-type {\n",
       "        vertical-align: middle;\n",
       "    }\n",
       "\n",
       "    .dataframe tbody tr th {\n",
       "        vertical-align: top;\n",
       "    }\n",
       "\n",
       "    .dataframe thead th {\n",
       "        text-align: right;\n",
       "    }\n",
       "</style>\n",
       "<table border=\"1\" class=\"dataframe\">\n",
       "  <thead>\n",
       "    <tr style=\"text-align: right;\">\n",
       "      <th></th>\n",
       "      <th>student_id</th>\n",
       "      <th>year</th>\n",
       "      <th>address</th>\n",
       "      <th>city</th>\n",
       "      <th>state</th>\n",
       "      <th>zipcode</th>\n",
       "      <th>ethnicity</th>\n",
       "    </tr>\n",
       "  </thead>\n",
       "  <tbody>\n",
       "    <tr>\n",
       "      <td>0</td>\n",
       "      <td>112140070</td>\n",
       "      <td>2016</td>\n",
       "      <td>3901 Kent Way</td>\n",
       "      <td>So San Francisco</td>\n",
       "      <td>CA</td>\n",
       "      <td>94080</td>\n",
       "      <td>Hispanic/Latino</td>\n",
       "    </tr>\n",
       "    <tr>\n",
       "      <td>1</td>\n",
       "      <td>113040117</td>\n",
       "      <td>2016</td>\n",
       "      <td>540 Serra Dr</td>\n",
       "      <td>So San Francisco</td>\n",
       "      <td>CA</td>\n",
       "      <td>94080</td>\n",
       "      <td>Asian Indian</td>\n",
       "    </tr>\n",
       "    <tr>\n",
       "      <td>2</td>\n",
       "      <td>113090072</td>\n",
       "      <td>2016</td>\n",
       "      <td>935 Gellert Blvd</td>\n",
       "      <td>Daly City</td>\n",
       "      <td>CA</td>\n",
       "      <td>94015</td>\n",
       "      <td>Black or African American</td>\n",
       "    </tr>\n",
       "    <tr>\n",
       "      <td>3</td>\n",
       "      <td>113130101</td>\n",
       "      <td>2016</td>\n",
       "      <td>14 Tunitas Ln</td>\n",
       "      <td>So San Francisco</td>\n",
       "      <td>CA</td>\n",
       "      <td>94080</td>\n",
       "      <td>White</td>\n",
       "    </tr>\n",
       "    <tr>\n",
       "      <td>4</td>\n",
       "      <td>113130103</td>\n",
       "      <td>2016</td>\n",
       "      <td>16 Sonora Ave</td>\n",
       "      <td>So San Francisco</td>\n",
       "      <td>CA</td>\n",
       "      <td>94080</td>\n",
       "      <td>White</td>\n",
       "    </tr>\n",
       "    <tr>\n",
       "      <td>...</td>\n",
       "      <td>...</td>\n",
       "      <td>...</td>\n",
       "      <td>...</td>\n",
       "      <td>...</td>\n",
       "      <td>...</td>\n",
       "      <td>...</td>\n",
       "      <td>...</td>\n",
       "    </tr>\n",
       "    <tr>\n",
       "      <td>36664</td>\n",
       "      <td>200009371</td>\n",
       "      <td>2019</td>\n",
       "      <td>303 Pine  Ave #8</td>\n",
       "      <td>So San Francisco</td>\n",
       "      <td>CA</td>\n",
       "      <td>94080</td>\n",
       "      <td>Hispanic/Latino</td>\n",
       "    </tr>\n",
       "    <tr>\n",
       "      <td>36665</td>\n",
       "      <td>200009372</td>\n",
       "      <td>2019</td>\n",
       "      <td>101 San Felipe Ave</td>\n",
       "      <td>So San Francisco</td>\n",
       "      <td>CA</td>\n",
       "      <td>94080</td>\n",
       "      <td>White</td>\n",
       "    </tr>\n",
       "    <tr>\n",
       "      <td>36666</td>\n",
       "      <td>200009373</td>\n",
       "      <td>2019</td>\n",
       "      <td>101 San Felipe Ave</td>\n",
       "      <td>So San Francisco</td>\n",
       "      <td>CA</td>\n",
       "      <td>94080</td>\n",
       "      <td>White</td>\n",
       "    </tr>\n",
       "    <tr>\n",
       "      <td>36667</td>\n",
       "      <td>200009374</td>\n",
       "      <td>2019</td>\n",
       "      <td>1070 Grand Ave #2</td>\n",
       "      <td>South San Francisco</td>\n",
       "      <td>CA</td>\n",
       "      <td>94080</td>\n",
       "      <td>White</td>\n",
       "    </tr>\n",
       "    <tr>\n",
       "      <td>36668</td>\n",
       "      <td>200009375</td>\n",
       "      <td>2019</td>\n",
       "      <td>101 San Felipe Ave</td>\n",
       "      <td>So San Francisco</td>\n",
       "      <td>CA</td>\n",
       "      <td>94080</td>\n",
       "      <td>White</td>\n",
       "    </tr>\n",
       "  </tbody>\n",
       "</table>\n",
       "<p>36669 rows × 7 columns</p>\n",
       "</div>"
      ],
      "text/plain": [
       "       student_id  year              address                 city state  \\\n",
       "0       112140070  2016       3901 Kent Way      So San Francisco    CA   \n",
       "1       113040117  2016        540 Serra Dr      So San Francisco    CA   \n",
       "2       113090072  2016    935 Gellert Blvd             Daly City    CA   \n",
       "3       113130101  2016       14 Tunitas Ln      So San Francisco    CA   \n",
       "4       113130103  2016       16 Sonora Ave      So San Francisco    CA   \n",
       "...           ...   ...                  ...                  ...   ...   \n",
       "36664   200009371  2019     303 Pine  Ave #8     So San Francisco    CA   \n",
       "36665   200009372  2019  101 San Felipe Ave      So San Francisco    CA   \n",
       "36666   200009373  2019  101 San Felipe Ave      So San Francisco    CA   \n",
       "36667   200009374  2019    1070 Grand Ave #2  South San Francisco    CA   \n",
       "36668   200009375  2019  101 San Felipe Ave      So San Francisco    CA   \n",
       "\n",
       "      zipcode                  ethnicity  \n",
       "0       94080            Hispanic/Latino  \n",
       "1       94080               Asian Indian  \n",
       "2       94015  Black or African American  \n",
       "3       94080                      White  \n",
       "4       94080                      White  \n",
       "...       ...                        ...  \n",
       "36664   94080            Hispanic/Latino  \n",
       "36665   94080                      White  \n",
       "36666   94080                      White  \n",
       "36667   94080                      White  \n",
       "36668   94080                      White  \n",
       "\n",
       "[36669 rows x 7 columns]"
      ]
     },
     "execution_count": 7,
     "metadata": {},
     "output_type": "execute_result"
    }
   ],
   "source": [
    "# Append datasets\n",
    "final_df = demo_2016.append(demo_2017, ignore_index=True)\n",
    "final_df = final_df.append(demo_2018, ignore_index=True)\n",
    "final_df = final_df.append(demo_2019, ignore_index=True)\n",
    "final_df"
   ]
  },
  {
   "cell_type": "markdown",
   "metadata": {},
   "source": [
    "# Exporting dataframe into csv (! ONLY ONCE !)"
   ]
  },
  {
   "cell_type": "code",
   "execution_count": 8,
   "metadata": {},
   "outputs": [],
   "source": [
    "# final_df.to_csv(\"assets/data/final_demo_data.csv\", index=False)"
   ]
  },
  {
   "cell_type": "markdown",
   "metadata": {},
   "source": [
    "# Using final dataset to do analysis"
   ]
  },
  {
   "cell_type": "code",
   "execution_count": 23,
   "metadata": {},
   "outputs": [
    {
     "data": {
      "text/html": [
       "<div>\n",
       "<style scoped>\n",
       "    .dataframe tbody tr th:only-of-type {\n",
       "        vertical-align: middle;\n",
       "    }\n",
       "\n",
       "    .dataframe tbody tr th {\n",
       "        vertical-align: top;\n",
       "    }\n",
       "\n",
       "    .dataframe thead th {\n",
       "        text-align: right;\n",
       "    }\n",
       "</style>\n",
       "<table border=\"1\" class=\"dataframe\">\n",
       "  <thead>\n",
       "    <tr style=\"text-align: right;\">\n",
       "      <th></th>\n",
       "      <th>student_id</th>\n",
       "      <th>year</th>\n",
       "      <th>address</th>\n",
       "      <th>city</th>\n",
       "      <th>state</th>\n",
       "      <th>zipcode</th>\n",
       "      <th>ethnicity</th>\n",
       "    </tr>\n",
       "  </thead>\n",
       "  <tbody>\n",
       "    <tr>\n",
       "      <td>0</td>\n",
       "      <td>112140070</td>\n",
       "      <td>2016</td>\n",
       "      <td>3901 Kent Way</td>\n",
       "      <td>So San Francisco</td>\n",
       "      <td>CA</td>\n",
       "      <td>94080</td>\n",
       "      <td>Hispanic/Latino</td>\n",
       "    </tr>\n",
       "    <tr>\n",
       "      <td>1</td>\n",
       "      <td>113040117</td>\n",
       "      <td>2016</td>\n",
       "      <td>540 Serra Dr</td>\n",
       "      <td>So San Francisco</td>\n",
       "      <td>CA</td>\n",
       "      <td>94080</td>\n",
       "      <td>Asian Indian</td>\n",
       "    </tr>\n",
       "    <tr>\n",
       "      <td>2</td>\n",
       "      <td>113090072</td>\n",
       "      <td>2016</td>\n",
       "      <td>935 Gellert Blvd</td>\n",
       "      <td>Daly City</td>\n",
       "      <td>CA</td>\n",
       "      <td>94015</td>\n",
       "      <td>Black or African American</td>\n",
       "    </tr>\n",
       "    <tr>\n",
       "      <td>3</td>\n",
       "      <td>113130101</td>\n",
       "      <td>2016</td>\n",
       "      <td>14 Tunitas Ln</td>\n",
       "      <td>So San Francisco</td>\n",
       "      <td>CA</td>\n",
       "      <td>94080</td>\n",
       "      <td>White</td>\n",
       "    </tr>\n",
       "    <tr>\n",
       "      <td>4</td>\n",
       "      <td>113130103</td>\n",
       "      <td>2016</td>\n",
       "      <td>16 Sonora Ave</td>\n",
       "      <td>So San Francisco</td>\n",
       "      <td>CA</td>\n",
       "      <td>94080</td>\n",
       "      <td>White</td>\n",
       "    </tr>\n",
       "  </tbody>\n",
       "</table>\n",
       "</div>"
      ],
      "text/plain": [
       "   student_id  year            address              city state zipcode  \\\n",
       "0   112140070  2016     3901 Kent Way   So San Francisco    CA   94080   \n",
       "1   113040117  2016      540 Serra Dr   So San Francisco    CA   94080   \n",
       "2   113090072  2016  935 Gellert Blvd          Daly City    CA   94015   \n",
       "3   113130101  2016     14 Tunitas Ln   So San Francisco    CA   94080   \n",
       "4   113130103  2016     16 Sonora Ave   So San Francisco    CA   94080   \n",
       "\n",
       "                   ethnicity  \n",
       "0            Hispanic/Latino  \n",
       "1               Asian Indian  \n",
       "2  Black or African American  \n",
       "3                      White  \n",
       "4                      White  "
      ]
     },
     "execution_count": 23,
     "metadata": {},
     "output_type": "execute_result"
    }
   ],
   "source": [
    "final_demo = pd.read_csv(\"assets/data/final_demo_data.csv\")\n",
    "final_demo.head()"
   ]
  },
  {
   "cell_type": "code",
   "execution_count": 24,
   "metadata": {
    "scrolled": true
   },
   "outputs": [
    {
     "data": {
      "text/plain": [
       "student_id     int64\n",
       "year           int64\n",
       "address       object\n",
       "city          object\n",
       "state         object\n",
       "zipcode       object\n",
       "ethnicity     object\n",
       "dtype: object"
      ]
     },
     "execution_count": 24,
     "metadata": {},
     "output_type": "execute_result"
    }
   ],
   "source": [
    "# Check the type of variables\n",
    "final_demo.dtypes"
   ]
  },
  {
   "cell_type": "code",
   "execution_count": null,
   "metadata": {},
   "outputs": [],
   "source": [
    "# Change the type of \"student_id\" to string\n",
    "final_demo[\"student_id\"] = final_demo[\"student_id\"].astype(str)"
   ]
  },
  {
   "cell_type": "code",
   "execution_count": 42,
   "metadata": {
    "scrolled": true
   },
   "outputs": [
    {
     "data": {
      "text/plain": [
       "student_id     0\n",
       "year           0\n",
       "address        0\n",
       "city           2\n",
       "state          6\n",
       "zipcode        9\n",
       "ethnicity     35\n",
       "dtype: int64"
      ]
     },
     "execution_count": 42,
     "metadata": {},
     "output_type": "execute_result"
    }
   ],
   "source": [
    "# Check NaN in the dataset\n",
    "final_demo.isnull().sum()"
   ]
  },
  {
   "cell_type": "code",
   "execution_count": 44,
   "metadata": {},
   "outputs": [],
   "source": [
    "# Drop NaN in the dataset\n",
    "final_demo.dropna(inplace=True)"
   ]
  },
  {
   "cell_type": "code",
   "execution_count": 47,
   "metadata": {
    "scrolled": true
   },
   "outputs": [
    {
     "data": {
      "text/plain": [
       "array(['Hispanic/Latino', 'Asian Indian', 'Black or African American',\n",
       "       'White', 'Filipino', 'Samoan', 'Other Pacific Islander', 'Chinese',\n",
       "       'American Indian or Alaska Native', 'Japanese', 'Other Asian',\n",
       "       'Guamanian', 'Undefined', 'Vietnamese', 'Korean', 'Hawaiian',\n",
       "       'Cambodian', 'Tahitian', 'Laotian', 'Hmong'], dtype=object)"
      ]
     },
     "execution_count": 47,
     "metadata": {},
     "output_type": "execute_result"
    }
   ],
   "source": [
    "# Check duplicates/similarities in ethnicity\n",
    "final_demo[\"ethnicity\"].unique()"
   ]
  },
  {
   "cell_type": "code",
   "execution_count": null,
   "metadata": {},
   "outputs": [],
   "source": []
  },
  {
   "cell_type": "code",
   "execution_count": 39,
   "metadata": {},
   "outputs": [],
   "source": [
    "# Count total number of enrollment\n",
    "totalEnroll = final_demo[\"student_id\"].nunique()\n",
    "\n",
    "# Create subgroups based on year\n",
    "yearEnroll = final_demo.groupby([\"year\", \"ethnicity\"])[\"ethnicity\"].count()"
   ]
  },
  {
   "cell_type": "code",
   "execution_count": null,
   "metadata": {},
   "outputs": [],
   "source": [
    "schoolType = dfComplete.groupby([\"school_name\"])[\"type\"].unique()\n"
   ]
  }
 ],
 "metadata": {
  "kernelspec": {
   "display_name": "Python 3",
   "language": "python",
   "name": "python3"
  },
  "language_info": {
   "codemirror_mode": {
    "name": "ipython",
    "version": 3
   },
   "file_extension": ".py",
   "mimetype": "text/x-python",
   "name": "python",
   "nbconvert_exporter": "python",
   "pygments_lexer": "ipython3",
   "version": "3.7.4"
  }
 },
 "nbformat": 4,
 "nbformat_minor": 2
}
